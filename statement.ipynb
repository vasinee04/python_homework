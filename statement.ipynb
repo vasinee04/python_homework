{
 "cells": [
  {
   "cell_type": "markdown",
   "id": "506a8c84-c7f1-41d1-99cc-5be97283a57e",
   "metadata": {},
   "source": [
    "# โจทย์คะแนนพิเศษ"
   ]
  },
  {
   "cell_type": "markdown",
   "id": "77f470e3-e665-4538-935f-51124733f3aa",
   "metadata": {},
   "source": [
    "### รายวิชา การเขียนโปรแกรมเชิงวัตถุ ปีการ 2/2565"
   ]
  },
  {
   "cell_type": "markdown",
   "id": "0780ab17-eea7-422b-aa2b-5c7c0842c261",
   "metadata": {},
   "source": [
    "ชื่อ วาสินี มาฤทธิ์ รหัสนักศึกษา 6712732126"
   ]
  },
  {
   "cell_type": "code",
   "execution_count": null,
   "id": "f52c9e17-4d31-4a98-91b6-d2d235fec0a4",
   "metadata": {},
   "outputs": [],
   "source": [
    "โจทย์: กบ (Frog)\n",
    "รายละเอียด\n",
    "มีเจ้ากบน้อยตัวหนึ่งที่สามารถกระโดดได้ทุกทิศทางบนระนาบ โดยกระโดดได้ครั้งละ 𝑋 หน่วย\n",
    "กบน้อยต้องการกระโดดจากจุด A ไปยังจุด B ซึ่งอยู่ห่างกัน Y หน่วย\n",
    "ต้องการหาว่ากบน้อยต้องกระโดดอย่างน้อยกี่ครั้งจึงจะไปถึงจุด B พอดี"
   ]
  },
  {
   "cell_type": "code",
   "execution_count": null,
   "id": "39b03b78-c244-4c99-a781-fa5e9fc238b8",
   "metadata": {},
   "outputs": [],
   "source": [
    "ข้อมูลนำเข้า\n",
    "    บรรทัดเดียว มีจำนวนเต็ม X และ Y (1 ≤ X,Y ≤ 1000)\n",
    "    X คือระยะทางที่กบกระโดดได้ต่อครั้ง\n",
    "    Y คือระยะทางที่ต้องการเดินทาง"
   ]
  },
  {
   "cell_type": "code",
   "execution_count": null,
   "id": "080223e2-e215-45e5-a360-8255d8b30176",
   "metadata": {},
   "outputs": [],
   "source": [
    "ข้อมูลส่งออก\n",
    "    บรรทัดเดียว แสดงจำนวนครั้งที่น้อยที่สุดที่ต้องใช้กระโดด"
   ]
  },
  {
   "cell_type": "code",
   "execution_count": 10,
   "id": "1357d5df-6efd-4cd1-a728-3927601745aa",
   "metadata": {},
   "outputs": [
    {
     "name": "stdin",
     "output_type": "stream",
     "text": [
      "X (คือระยะทางที่กบกระโดดได้ต่อครั้ง) :  8\n",
      "Y (คือระยะทางที่ต้องการเดินทาง) :  7\n"
     ]
    },
    {
     "name": "stdout",
     "output_type": "stream",
     "text": [
      "แสดงจำนวนครั้งที่น้อยที่สุดที่ต้องใช้กระโดด : 1\n"
     ]
    }
   ],
   "source": [
    "# คำตอบ\n",
    "\n",
    "import math\n",
    "\n",
    "def min_jumps(X, Y):\n",
    "    return math.ceil(Y / X)\n",
    "\n",
    "X = int(input(\"X (คือระยะทางที่กบกระโดดได้ต่อครั้ง) : \"))\n",
    "Y = int(input(\"Y (คือระยะทางที่ต้องการเดินทาง) : \"))\n",
    "print(\"แสดงจำนวนครั้งที่น้อยที่สุดที่ต้องใช้กระโดด :\", min_jumps(X, Y))\n"
   ]
  },
  {
   "cell_type": "code",
   "execution_count": null,
   "id": "a1791600-0cf6-4fc7-8e6b-76e02b4701f3",
   "metadata": {},
   "outputs": [],
   "source": []
  }
 ],
 "metadata": {
  "kernelspec": {
   "display_name": "Python 3 (ipykernel)",
   "language": "python",
   "name": "python3"
  },
  "language_info": {
   "codemirror_mode": {
    "name": "ipython",
    "version": 3
   },
   "file_extension": ".py",
   "mimetype": "text/x-python",
   "name": "python",
   "nbconvert_exporter": "python",
   "pygments_lexer": "ipython3",
   "version": "3.13.0"
  }
 },
 "nbformat": 4,
 "nbformat_minor": 5
}
