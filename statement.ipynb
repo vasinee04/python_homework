{
 "cells": [
  {
   "cell_type": "markdown",
   "id": "506a8c84-c7f1-41d1-99cc-5be97283a57e",
   "metadata": {},
   "source": [
    "# โจทย์คะแนนพิเศษ"
   ]
  },
  {
   "cell_type": "markdown",
   "id": "77f470e3-e665-4538-935f-51124733f3aa",
   "metadata": {},
   "source": [
    "### รายวิชา การเขียนโปรแกรมเชิงวัตถุ ปีการ 2/2565"
   ]
  },
  {
   "cell_type": "markdown",
   "id": "0780ab17-eea7-422b-aa2b-5c7c0842c261",
   "metadata": {},
   "source": [
    "ชื่อ วาสินี มาฤทธิ์ รหัสนักศึกษา 6712732126"
   ]
  },
  {
   "cell_type": "code",
   "execution_count": null,
   "id": "f52c9e17-4d31-4a98-91b6-d2d235fec0a4",
   "metadata": {},
   "outputs": [],
   "source": [
    "โจทย์ : กบ (Frog)\n",
    "รายละเอียด\n",
    "มีเจ้ากบน้อยตัวหนึ่งที่สามารถกระโดดได้ทุกทิศทางบนระนาบ โดยกระโดดได้ครั้งละ 𝑋 หน่วย\n",
    "กบน้อยต้องการกระโดดจากจุด A ไปยังจุด B ซึ่งอยู่ห่างกัน Y หน่วย\n",
    "ต้องการหาว่ากบน้อยต้องกระโดดอย่างน้อยกี่ครั้งจึงจะไปถึงจุด B พอดี\n",
    "\n",
    "ข้อมูลนำเข้า\n",
    "    บรรทัดเดียว มีจำนวนเต็ม X และ Y (1 ≤ X,Y ≤ 1000)\n",
    "    X คือระยะทางที่กบกระโดดได้ต่อครั้ง\n",
    "    Y คือระยะทางที่ต้องการเดินทาง\n",
    "\n",
    "ข้อมูลส่งออก\n",
    "    บรรทัดเดียว แสดงจำนวนครั้งที่น้อยที่สุดที่ต้องใช้กระโดด"
   ]
  },
  {
   "cell_type": "code",
   "execution_count": null,
   "id": "809d744c-7d29-47ba-9e73-8e6cddd03708",
   "metadata": {},
   "outputs": [],
   "source": []
  },
  {
   "cell_type": "code",
   "execution_count": 5,
   "id": "a1791600-0cf6-4fc7-8e6b-76e02b4701f3",
   "metadata": {},
   "outputs": [
    {
     "name": "stdin",
     "output_type": "stream",
     "text": [
      " 6 5\n"
     ]
    },
    {
     "name": "stdout",
     "output_type": "stream",
     "text": [
      "1\n"
     ]
    }
   ],
   "source": [
    "# คำตอบ แบบที่ 1\n",
    "\n",
    "import math\n",
    "\n",
    "x, y = map(int, input().split())\n",
    "jumps = math.ceil(y / x)\n",
    "print(jumps)\n"
   ]
  },
  {
   "cell_type": "code",
   "execution_count": 11,
   "id": "453e484f-c620-4562-89bc-4b604bae487f",
   "metadata": {},
   "outputs": [
    {
     "name": "stdin",
     "output_type": "stream",
     "text": [
      "ป้อนค่า X (ระยะทางที่กบกระโดดได้ต่อครั้ง) :  6\n",
      "ป้อนค่า Y (คือระยะทางที่ต้องการเดินทาง) :  5\n"
     ]
    },
    {
     "name": "stdout",
     "output_type": "stream",
     "text": [
      "แสดงจำนวนครั้งที่น้อยที่สุดที่ต้องใช้กระโดด : 1\n"
     ]
    }
   ],
   "source": [
    "# คำตอบ แบบที่ 2\n",
    "\n",
    "import math\n",
    "\n",
    "def min_jumps(X, Y) :\n",
    "    return math.ceil(Y / X)\n",
    "\n",
    "X = int(input(\"ป้อนค่า X (ระยะทางที่กบกระโดดได้ต่อครั้ง) : \"))\n",
    "Y = int(input(\"ป้อนค่า Y (คือระยะทางที่ต้องการเดินทาง) : \"))\n",
    "print(\"แสดงจำนวนครั้งที่น้อยที่สุดที่ต้องใช้กระโดด :\", min_jumps(X, Y))\n"
   ]
  },
  {
   "cell_type": "code",
   "execution_count": null,
   "id": "9ad8101f-36c2-4e46-80ce-92d96c4d488f",
   "metadata": {},
   "outputs": [],
   "source": []
  }
 ],
 "metadata": {
  "kernelspec": {
   "display_name": "Python 3 (ipykernel)",
   "language": "python",
   "name": "python3"
  },
  "language_info": {
   "codemirror_mode": {
    "name": "ipython",
    "version": 3
   },
   "file_extension": ".py",
   "mimetype": "text/x-python",
   "name": "python",
   "nbconvert_exporter": "python",
   "pygments_lexer": "ipython3",
   "version": "3.13.0"
  }
 },
 "nbformat": 4,
 "nbformat_minor": 5
}
