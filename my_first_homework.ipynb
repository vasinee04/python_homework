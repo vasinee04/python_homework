{
 "cells": [
  {
   "cell_type": "markdown",
   "id": "6254c41f-80d6-4d2b-a73e-cc85315ed5c4",
   "metadata": {},
   "source": [
    "นางสาววาสินี มาฤทธิ์\n",
    "\n",
    "เลขที่ 6712732126"
   ]
  },
  {
   "cell_type": "code",
   "execution_count": 2,
   "id": "17ca5414-2a1a-4bb4-a2ec-8f92084049a8",
   "metadata": {},
   "outputs": [
    {
     "name": "stdout",
     "output_type": "stream",
     "text": [
      "Hello World\n"
     ]
    }
   ],
   "source": [
    "print(\"Hello World\")"
   ]
  },
  {
   "cell_type": "code",
   "execution_count": null,
   "id": "02d8aeab-7511-4357-91a5-d9f6ff84c244",
   "metadata": {},
   "outputs": [],
   "source": []
  }
 ],
 "metadata": {
  "kernelspec": {
   "display_name": "Python 3 (ipykernel)",
   "language": "python",
   "name": "python3"
  },
  "language_info": {
   "codemirror_mode": {
    "name": "ipython",
    "version": 3
   },
   "file_extension": ".py",
   "mimetype": "text/x-python",
   "name": "python",
   "nbconvert_exporter": "python",
   "pygments_lexer": "ipython3",
   "version": "3.13.0"
  }
 },
 "nbformat": 4,
 "nbformat_minor": 5
}
